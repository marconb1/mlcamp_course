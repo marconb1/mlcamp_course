{
 "cells": [
  {
   "cell_type": "code",
   "execution_count": 7,
   "id": "c53751f5",
   "metadata": {
    "ExecuteTime": {
     "end_time": "2022-09-22T00:01:55.577807Z",
     "start_time": "2022-09-22T00:01:55.572831Z"
    }
   },
   "outputs": [
    {
     "name": "stderr",
     "output_type": "stream",
     "text": [
      "UsageError: Line magic function `%md` not found.\n"
     ]
    }
   ],
   "source": [
    "#1)What's the version of NumPy that you installed?"
   ]
  },
  {
   "cell_type": "code",
   "execution_count": null,
   "id": "9607b24f",
   "metadata": {},
   "outputs": [],
   "source": [
    "np.__version__"
   ]
  },
  {
   "cell_type": "code",
   "execution_count": 9,
   "id": "b5f57c4b",
   "metadata": {
    "ExecuteTime": {
     "end_time": "2022-09-22T00:08:39.324269Z",
     "start_time": "2022-09-22T00:08:33.636684Z"
    }
   },
   "outputs": [
    {
     "name": "stdout",
     "output_type": "stream",
     "text": [
      "--2022-09-21 21:08:34--  https://raw.githubusercontent.com/alexeygrigorev/mlbookcamp-code/master/chapter-02-car-price/data.csv\n",
      "Resolvendo raw.githubusercontent.com (raw.githubusercontent.com)... 2606:50c0:8001::154, 2606:50c0:8003::154, 2606:50c0:8002::154, ...\n",
      "Conectando-se a raw.githubusercontent.com (raw.githubusercontent.com)|2606:50c0:8001::154|:443... conectado.\n",
      "A requisição HTTP foi enviada, aguardando resposta... 200 OK\n",
      "Tamanho: 1475504 (1,4M) [text/plain]\n",
      "Salvando em: “data.csv”\n",
      "\n",
      "data.csv            100%[===================>]   1,41M  3,45MB/s    em 0,4s    \n",
      "\n",
      "2022-09-21 21:08:39 (3,45 MB/s) - “data.csv” salvo [1475504/1475504]\n",
      "\n"
     ]
    }
   ],
   "source": [
    "\n",
    "!wget https://raw.githubusercontent.com/alexeygrigorev/mlbookcamp-code/master/chapter-02-car-price/data.csv"
   ]
  },
  {
   "cell_type": "code",
   "execution_count": 50,
   "id": "b8af370b",
   "metadata": {
    "ExecuteTime": {
     "end_time": "2022-09-22T00:26:21.246111Z",
     "start_time": "2022-09-22T00:26:20.383046Z"
    }
   },
   "outputs": [],
   "source": [
    "import pandas as pd\n",
    "data = pd.read_csv(\"https://raw.githubusercontent.com/alexeygrigorev/mlbookcamp-code/master/chapter-02-car-price/data.csv\")"
   ]
  },
  {
   "cell_type": "code",
   "execution_count": 12,
   "id": "da9eae74",
   "metadata": {
    "ExecuteTime": {
     "end_time": "2022-09-22T00:09:37.428183Z",
     "start_time": "2022-09-22T00:09:37.425536Z"
    }
   },
   "outputs": [],
   "source": [
    "#2) Number of records in dataframe"
   ]
  },
  {
   "cell_type": "code",
   "execution_count": 13,
   "id": "395666f1",
   "metadata": {
    "ExecuteTime": {
     "end_time": "2022-09-22T00:09:49.714794Z",
     "start_time": "2022-09-22T00:09:49.710223Z"
    }
   },
   "outputs": [
    {
     "data": {
      "text/plain": [
       "11914"
      ]
     },
     "execution_count": 13,
     "metadata": {},
     "output_type": "execute_result"
    }
   ],
   "source": [
    "data.shape[0]"
   ]
  },
  {
   "cell_type": "code",
   "execution_count": 14,
   "id": "01d9e817",
   "metadata": {
    "ExecuteTime": {
     "end_time": "2022-09-22T00:10:02.218660Z",
     "start_time": "2022-09-22T00:10:02.215879Z"
    }
   },
   "outputs": [],
   "source": [
    "#3) Who are the most frequent car manufacturers (top-3) according to the dataset?"
   ]
  },
  {
   "cell_type": "code",
   "execution_count": 15,
   "id": "1c0ea269",
   "metadata": {
    "ExecuteTime": {
     "end_time": "2022-09-22T00:10:09.586417Z",
     "start_time": "2022-09-22T00:10:09.572213Z"
    }
   },
   "outputs": [
    {
     "data": {
      "text/html": [
       "<div>\n",
       "<style scoped>\n",
       "    .dataframe tbody tr th:only-of-type {\n",
       "        vertical-align: middle;\n",
       "    }\n",
       "\n",
       "    .dataframe tbody tr th {\n",
       "        vertical-align: top;\n",
       "    }\n",
       "\n",
       "    .dataframe thead th {\n",
       "        text-align: right;\n",
       "    }\n",
       "</style>\n",
       "<table border=\"1\" class=\"dataframe\">\n",
       "  <thead>\n",
       "    <tr style=\"text-align: right;\">\n",
       "      <th></th>\n",
       "      <th>Make</th>\n",
       "      <th>Model</th>\n",
       "      <th>Year</th>\n",
       "      <th>Engine Fuel Type</th>\n",
       "      <th>Engine HP</th>\n",
       "      <th>Engine Cylinders</th>\n",
       "      <th>Transmission Type</th>\n",
       "      <th>Driven_Wheels</th>\n",
       "      <th>Number of Doors</th>\n",
       "      <th>Market Category</th>\n",
       "      <th>Vehicle Size</th>\n",
       "      <th>Vehicle Style</th>\n",
       "      <th>highway MPG</th>\n",
       "      <th>city mpg</th>\n",
       "      <th>Popularity</th>\n",
       "      <th>MSRP</th>\n",
       "    </tr>\n",
       "  </thead>\n",
       "  <tbody>\n",
       "    <tr>\n",
       "      <th>0</th>\n",
       "      <td>BMW</td>\n",
       "      <td>1 Series M</td>\n",
       "      <td>2011</td>\n",
       "      <td>premium unleaded (required)</td>\n",
       "      <td>335.0</td>\n",
       "      <td>6.0</td>\n",
       "      <td>MANUAL</td>\n",
       "      <td>rear wheel drive</td>\n",
       "      <td>2.0</td>\n",
       "      <td>Factory Tuner,Luxury,High-Performance</td>\n",
       "      <td>Compact</td>\n",
       "      <td>Coupe</td>\n",
       "      <td>26</td>\n",
       "      <td>19</td>\n",
       "      <td>3916</td>\n",
       "      <td>46135</td>\n",
       "    </tr>\n",
       "    <tr>\n",
       "      <th>1</th>\n",
       "      <td>BMW</td>\n",
       "      <td>1 Series</td>\n",
       "      <td>2011</td>\n",
       "      <td>premium unleaded (required)</td>\n",
       "      <td>300.0</td>\n",
       "      <td>6.0</td>\n",
       "      <td>MANUAL</td>\n",
       "      <td>rear wheel drive</td>\n",
       "      <td>2.0</td>\n",
       "      <td>Luxury,Performance</td>\n",
       "      <td>Compact</td>\n",
       "      <td>Convertible</td>\n",
       "      <td>28</td>\n",
       "      <td>19</td>\n",
       "      <td>3916</td>\n",
       "      <td>40650</td>\n",
       "    </tr>\n",
       "    <tr>\n",
       "      <th>2</th>\n",
       "      <td>BMW</td>\n",
       "      <td>1 Series</td>\n",
       "      <td>2011</td>\n",
       "      <td>premium unleaded (required)</td>\n",
       "      <td>300.0</td>\n",
       "      <td>6.0</td>\n",
       "      <td>MANUAL</td>\n",
       "      <td>rear wheel drive</td>\n",
       "      <td>2.0</td>\n",
       "      <td>Luxury,High-Performance</td>\n",
       "      <td>Compact</td>\n",
       "      <td>Coupe</td>\n",
       "      <td>28</td>\n",
       "      <td>20</td>\n",
       "      <td>3916</td>\n",
       "      <td>36350</td>\n",
       "    </tr>\n",
       "    <tr>\n",
       "      <th>3</th>\n",
       "      <td>BMW</td>\n",
       "      <td>1 Series</td>\n",
       "      <td>2011</td>\n",
       "      <td>premium unleaded (required)</td>\n",
       "      <td>230.0</td>\n",
       "      <td>6.0</td>\n",
       "      <td>MANUAL</td>\n",
       "      <td>rear wheel drive</td>\n",
       "      <td>2.0</td>\n",
       "      <td>Luxury,Performance</td>\n",
       "      <td>Compact</td>\n",
       "      <td>Coupe</td>\n",
       "      <td>28</td>\n",
       "      <td>18</td>\n",
       "      <td>3916</td>\n",
       "      <td>29450</td>\n",
       "    </tr>\n",
       "    <tr>\n",
       "      <th>4</th>\n",
       "      <td>BMW</td>\n",
       "      <td>1 Series</td>\n",
       "      <td>2011</td>\n",
       "      <td>premium unleaded (required)</td>\n",
       "      <td>230.0</td>\n",
       "      <td>6.0</td>\n",
       "      <td>MANUAL</td>\n",
       "      <td>rear wheel drive</td>\n",
       "      <td>2.0</td>\n",
       "      <td>Luxury</td>\n",
       "      <td>Compact</td>\n",
       "      <td>Convertible</td>\n",
       "      <td>28</td>\n",
       "      <td>18</td>\n",
       "      <td>3916</td>\n",
       "      <td>34500</td>\n",
       "    </tr>\n",
       "  </tbody>\n",
       "</table>\n",
       "</div>"
      ],
      "text/plain": [
       "  Make       Model  Year             Engine Fuel Type  Engine HP  \\\n",
       "0  BMW  1 Series M  2011  premium unleaded (required)      335.0   \n",
       "1  BMW    1 Series  2011  premium unleaded (required)      300.0   \n",
       "2  BMW    1 Series  2011  premium unleaded (required)      300.0   \n",
       "3  BMW    1 Series  2011  premium unleaded (required)      230.0   \n",
       "4  BMW    1 Series  2011  premium unleaded (required)      230.0   \n",
       "\n",
       "   Engine Cylinders Transmission Type     Driven_Wheels  Number of Doors  \\\n",
       "0               6.0            MANUAL  rear wheel drive              2.0   \n",
       "1               6.0            MANUAL  rear wheel drive              2.0   \n",
       "2               6.0            MANUAL  rear wheel drive              2.0   \n",
       "3               6.0            MANUAL  rear wheel drive              2.0   \n",
       "4               6.0            MANUAL  rear wheel drive              2.0   \n",
       "\n",
       "                         Market Category Vehicle Size Vehicle Style  \\\n",
       "0  Factory Tuner,Luxury,High-Performance      Compact         Coupe   \n",
       "1                     Luxury,Performance      Compact   Convertible   \n",
       "2                Luxury,High-Performance      Compact         Coupe   \n",
       "3                     Luxury,Performance      Compact         Coupe   \n",
       "4                                 Luxury      Compact   Convertible   \n",
       "\n",
       "   highway MPG  city mpg  Popularity   MSRP  \n",
       "0           26        19        3916  46135  \n",
       "1           28        19        3916  40650  \n",
       "2           28        20        3916  36350  \n",
       "3           28        18        3916  29450  \n",
       "4           28        18        3916  34500  "
      ]
     },
     "execution_count": 15,
     "metadata": {},
     "output_type": "execute_result"
    }
   ],
   "source": [
    "data.head()"
   ]
  },
  {
   "cell_type": "code",
   "execution_count": 29,
   "id": "e9a2a7f4",
   "metadata": {
    "ExecuteTime": {
     "end_time": "2022-09-22T00:16:11.885116Z",
     "start_time": "2022-09-22T00:16:11.879151Z"
    }
   },
   "outputs": [
    {
     "data": {
      "text/plain": [
       "Chevrolet     1123\n",
       "Ford           881\n",
       "Volkswagen     809\n",
       "Toyota         746\n",
       "Dodge          626\n",
       "Name: Make, dtype: int64"
      ]
     },
     "execution_count": 29,
     "metadata": {},
     "output_type": "execute_result"
    }
   ],
   "source": [
    "data['Make'].value_counts().head()"
   ]
  },
  {
   "cell_type": "code",
   "execution_count": 41,
   "id": "d48b4f93",
   "metadata": {
    "ExecuteTime": {
     "end_time": "2022-09-22T00:19:29.005707Z",
     "start_time": "2022-09-22T00:19:29.003220Z"
    }
   },
   "outputs": [],
   "source": [
    "#4) What's the number of unique Audi car models in the dataset?"
   ]
  },
  {
   "cell_type": "code",
   "execution_count": 39,
   "id": "838b2605",
   "metadata": {
    "ExecuteTime": {
     "end_time": "2022-09-22T00:19:00.333484Z",
     "start_time": "2022-09-22T00:19:00.327699Z"
    }
   },
   "outputs": [
    {
     "data": {
      "text/plain": [
       "34"
      ]
     },
     "execution_count": 39,
     "metadata": {},
     "output_type": "execute_result"
    }
   ],
   "source": [
    "data[data.Make=='Audi']['Model'].nunique()"
   ]
  },
  {
   "cell_type": "code",
   "execution_count": 42,
   "id": "eee5218b",
   "metadata": {
    "ExecuteTime": {
     "end_time": "2022-09-22T00:19:31.065781Z",
     "start_time": "2022-09-22T00:19:31.063229Z"
    }
   },
   "outputs": [],
   "source": [
    "#5)How many columns in the dataset have missing values?"
   ]
  },
  {
   "cell_type": "code",
   "execution_count": 43,
   "id": "a098c7cf",
   "metadata": {
    "ExecuteTime": {
     "end_time": "2022-09-22T00:19:38.793220Z",
     "start_time": "2022-09-22T00:19:38.778348Z"
    }
   },
   "outputs": [
    {
     "data": {
      "text/plain": [
       "5"
      ]
     },
     "execution_count": 43,
     "metadata": {},
     "output_type": "execute_result"
    }
   ],
   "source": [
    "(data.isnull().sum() != 0).sum()"
   ]
  },
  {
   "cell_type": "code",
   "execution_count": 44,
   "id": "95a8f284",
   "metadata": {
    "ExecuteTime": {
     "end_time": "2022-09-22T00:24:16.100922Z",
     "start_time": "2022-09-22T00:24:16.098417Z"
    }
   },
   "outputs": [],
   "source": [
    "#Question 6\n",
    "#Find the median value of \"Engine Cylinders\" column in the dataset.\n",
    "#Next, calculate the most frequent value of the same \"Engine Cylinders\".\n",
    "#Use the fillna method to fill the missing values in \"Engine Cylinders\" with the most frequent value from the previous step.\n",
    "#Now, calculate the median value of \"Engine Cylinders\" once again, Did it change?"
   ]
  },
  {
   "cell_type": "code",
   "execution_count": 51,
   "id": "b37642c9",
   "metadata": {
    "ExecuteTime": {
     "end_time": "2022-09-22T00:26:30.980026Z",
     "start_time": "2022-09-22T00:26:30.974865Z"
    }
   },
   "outputs": [
    {
     "data": {
      "text/plain": [
       "6.0"
      ]
     },
     "execution_count": 51,
     "metadata": {},
     "output_type": "execute_result"
    }
   ],
   "source": [
    "data['Engine Cylinders'].median() #median"
   ]
  },
  {
   "cell_type": "code",
   "execution_count": 53,
   "id": "714a2edd",
   "metadata": {
    "ExecuteTime": {
     "end_time": "2022-09-22T00:26:37.456827Z",
     "start_time": "2022-09-22T00:26:37.451547Z"
    }
   },
   "outputs": [
    {
     "data": {
      "text/plain": [
       "0    4.0\n",
       "Name: Engine Cylinders, dtype: float64"
      ]
     },
     "execution_count": 53,
     "metadata": {},
     "output_type": "execute_result"
    }
   ],
   "source": [
    "most_frequent = data['Engine Cylinders'].mode() #most frequent value\n",
    "most_frequent"
   ]
  },
  {
   "cell_type": "code",
   "execution_count": 54,
   "id": "9735e52a",
   "metadata": {
    "ExecuteTime": {
     "end_time": "2022-09-22T00:26:40.088442Z",
     "start_time": "2022-09-22T00:26:40.085517Z"
    }
   },
   "outputs": [],
   "source": [
    "data.fillna(most_frequent, inplace=True) #feeling NA with 0."
   ]
  },
  {
   "cell_type": "code",
   "execution_count": 55,
   "id": "edc3d295",
   "metadata": {
    "ExecuteTime": {
     "end_time": "2022-09-22T00:27:00.051166Z",
     "start_time": "2022-09-22T00:27:00.046550Z"
    }
   },
   "outputs": [
    {
     "data": {
      "text/plain": [
       "6.0"
      ]
     },
     "execution_count": 55,
     "metadata": {},
     "output_type": "execute_result"
    }
   ],
   "source": [
    "data['Engine Cylinders'].median() #calculating the median again - Didnt change the value after calculating again."
   ]
  },
  {
   "cell_type": "code",
   "execution_count": 56,
   "id": "b6eb72b5",
   "metadata": {
    "ExecuteTime": {
     "end_time": "2022-09-22T00:28:23.867013Z",
     "start_time": "2022-09-22T00:28:23.864174Z"
    }
   },
   "outputs": [],
   "source": [
    "#Question 7\n",
    "#a)Select all the \"Lotus\" cars from the dataset.\n",
    "#b)Select only columns \"Engine HP\", \"Engine Cylinders\".\n",
    "#c)Now drop all duplicated rows using drop_duplicates method (you should get a dataframe with 9 rows).\n",
    "#d)Get the underlying NumPy array. Let's call it X.\n",
    "#e)Compute matrix-matrix multiplication between the transpose of X and X. To get the transpose, use X.T. Let's call the result XTX.\n",
    "#f)Compute the inverse of XTX.\n",
    "#g)Create an array y with values [1100, 800, 750, 850, 1300, 1000, 1000, 1300, 800].\n",
    "#h)Multiply the inverse of XTX with the transpose of X, and then multiply the result by y. Call the result w.\n",
    "#i)What's the value of the first element of w?"
   ]
  },
  {
   "cell_type": "code",
   "execution_count": 64,
   "id": "e0cc9a8d",
   "metadata": {
    "ExecuteTime": {
     "end_time": "2022-09-22T00:31:04.686053Z",
     "start_time": "2022-09-22T00:31:04.680114Z"
    }
   },
   "outputs": [],
   "source": [
    "result = data[data['Make'] == 'Lotus'][['Engine HP', 'Engine Cylinders']].drop_duplicates()\n",
    "X = result.to_numpy()  #a,b,c,d"
   ]
  },
  {
   "cell_type": "code",
   "execution_count": 71,
   "id": "c9fe6b25",
   "metadata": {
    "ExecuteTime": {
     "end_time": "2022-09-22T00:32:35.452287Z",
     "start_time": "2022-09-22T00:32:35.447682Z"
    }
   },
   "outputs": [
    {
     "data": {
      "text/plain": [
       "array([[7.31684e+05, 1.34100e+04],\n",
       "       [1.34100e+04, 2.52000e+02]])"
      ]
     },
     "execution_count": 71,
     "metadata": {},
     "output_type": "execute_result"
    }
   ],
   "source": [
    "mtm_mult = X.T@X\n",
    "mtm_mult #e"
   ]
  },
  {
   "cell_type": "code",
   "execution_count": 76,
   "id": "ac4b3437",
   "metadata": {
    "ExecuteTime": {
     "end_time": "2022-09-22T00:34:28.268545Z",
     "start_time": "2022-09-22T00:34:28.263997Z"
    }
   },
   "outputs": [
    {
     "data": {
      "text/plain": [
       "array([[ 5.53084235e-05, -2.94319825e-03],\n",
       "       [-2.94319825e-03,  1.60588447e-01]])"
      ]
     },
     "execution_count": 76,
     "metadata": {},
     "output_type": "execute_result"
    }
   ],
   "source": [
    "mtm_mult_inv = np.linalg.inv(mtm_mult)\n",
    "mtm_mult_inv #f"
   ]
  },
  {
   "cell_type": "code",
   "execution_count": 90,
   "id": "c9da4aa9",
   "metadata": {
    "ExecuteTime": {
     "end_time": "2022-09-22T00:39:43.273321Z",
     "start_time": "2022-09-22T00:39:43.270244Z"
    }
   },
   "outputs": [],
   "source": [
    "y = np.array(['1100', '800', '750', '850', '1300', '1000', '1000', '1300', '800'])\n",
    "y=y.astype(np.float64) #g"
   ]
  },
  {
   "cell_type": "code",
   "execution_count": 91,
   "id": "27dae738",
   "metadata": {
    "ExecuteTime": {
     "end_time": "2022-09-22T00:39:44.139395Z",
     "start_time": "2022-09-22T00:39:44.136369Z"
    }
   },
   "outputs": [],
   "source": [
    "w = (mtm_mult_inv @ X.T) @ y #h"
   ]
  },
  {
   "cell_type": "code",
   "execution_count": 92,
   "id": "8f02a116",
   "metadata": {
    "ExecuteTime": {
     "end_time": "2022-09-22T00:39:48.879090Z",
     "start_time": "2022-09-22T00:39:48.875203Z"
    }
   },
   "outputs": [
    {
     "data": {
      "text/plain": [
       "4.594944810094576"
      ]
     },
     "execution_count": 92,
     "metadata": {},
     "output_type": "execute_result"
    }
   ],
   "source": [
    "w[0] #value of first element of w #i"
   ]
  },
  {
   "cell_type": "code",
   "execution_count": null,
   "id": "46c1c484",
   "metadata": {},
   "outputs": [],
   "source": []
  }
 ],
 "metadata": {
  "hide_input": false,
  "kernelspec": {
   "display_name": "Python 3 (ipykernel)",
   "language": "python",
   "name": "python3"
  },
  "language_info": {
   "codemirror_mode": {
    "name": "ipython",
    "version": 3
   },
   "file_extension": ".py",
   "mimetype": "text/x-python",
   "name": "python",
   "nbconvert_exporter": "python",
   "pygments_lexer": "ipython3",
   "version": "3.9.13"
  },
  "varInspector": {
   "cols": {
    "lenName": 16,
    "lenType": 16,
    "lenVar": 40
   },
   "kernels_config": {
    "python": {
     "delete_cmd_postfix": "",
     "delete_cmd_prefix": "del ",
     "library": "var_list.py",
     "varRefreshCmd": "print(var_dic_list())"
    },
    "r": {
     "delete_cmd_postfix": ") ",
     "delete_cmd_prefix": "rm(",
     "library": "var_list.r",
     "varRefreshCmd": "cat(var_dic_list()) "
    }
   },
   "types_to_exclude": [
    "module",
    "function",
    "builtin_function_or_method",
    "instance",
    "_Feature"
   ],
   "window_display": false
  }
 },
 "nbformat": 4,
 "nbformat_minor": 5
}
